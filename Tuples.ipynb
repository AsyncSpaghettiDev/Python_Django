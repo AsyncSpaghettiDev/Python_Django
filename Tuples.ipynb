{
  "nbformat": 4,
  "nbformat_minor": 0,
  "metadata": {
    "colab": {
      "name": "Tuples.ipynb",
      "provenance": [],
      "authorship_tag": "ABX9TyMe3+I+Tq5F/5EwOAjisjav"
    },
    "kernelspec": {
      "name": "python3",
      "display_name": "Python 3"
    }
  },
  "cells": [
    {
      "cell_type": "code",
      "metadata": {
        "colab": {
          "base_uri": "https://localhost:8080/"
        },
        "id": "tsXWL8tEtEcE",
        "outputId": "33c604d6-353a-469b-aa9d-d7eb01dacdd8"
      },
      "source": [
        "# Creating an empty tuple\r\n",
        "tuple1 = ()\r\n",
        "print(tuple1)\r\n",
        "\r\n",
        "# Creating tuples with integer elements\r\n",
        "tuple2 = (1,2,3)\r\n",
        "print(tuple2)\r\n",
        "\r\n",
        "# Tuple wit mixed datatypes\r\n",
        "tuple3 = (101, \"Anirban\", 2000.00, 'Hi Depot')\r\n",
        "print(tuple3)"
      ],
      "execution_count": null,
      "outputs": [
        {
          "output_type": "stream",
          "text": [
            "()\n",
            "(1, 2, 3)\n",
            "(101, 'Anirban', 2000.0, 'Hi Depot')\n"
          ],
          "name": "stdout"
        }
      ]
    },
    {
      "cell_type": "code",
      "metadata": {
        "colab": {
          "base_uri": "https://localhost:8080/"
        },
        "id": "IzMWcwNHfJp-",
        "outputId": "e9f5da1d-08e9-4b5a-c03f-41a5b777de31"
      },
      "source": [
        "# Creation of nested tuple\r\n",
        "tuple4 = (\"points\", [1, 4, 3], (7, 8, 6))\r\n",
        "print(tuple4)\r\n",
        "\r\n",
        "# Tuples can also be created without any parentheses\r\n",
        "# also called tuple packing\r\n",
        "tuple5 = 101, \"Anirban\", 2000.00, 'Hr-Depot'\r\n",
        "print(tuple5)\r\n",
        "\r\n",
        "# Tumple unpacking is also possible\r\n",
        "empid, empname, empsal, empdept = tuple5\r\n",
        "print( empid  )\r\n",
        "print( empname)\r\n",
        "print( empsal )\r\n",
        "print( empdept)\r\n",
        "\r\n",
        "print(type(tuple5))"
      ],
      "execution_count": 2,
      "outputs": [
        {
          "output_type": "stream",
          "text": [
            "('points', [1, 4, 3], (7, 8, 6))\n",
            "(101, 'Anirban', 2000.0, 'Hr-Depot')\n",
            "101\n",
            "Anirban\n",
            "2000.0\n",
            "Hr-Depot\n",
            "<class 'tuple'>\n"
          ],
          "name": "stdout"
        }
      ]
    },
    {
      "cell_type": "code",
      "metadata": {
        "colab": {
          "base_uri": "https://localhost:8080/"
        },
        "id": "RHKEpc0DgqHw",
        "outputId": "6442003c-463e-4c3a-c571-49aadf30890f"
      },
      "source": [
        "# Accesing elements in a tuple\r\n",
        "tuple1 = ('w', 'e', 'l', 'c', 'o', 'm', 'e')\r\n",
        "print( tuple1  )\r\n",
        "print( tuple1[1])\r\n",
        "print( tuple1[3])\r\n",
        "print( tuple1[5])\r\n",
        "\r\n",
        "# Nested tuple\r\n",
        "nested_tuple2 = (\"point\", [1, 3 , 4], (8, 7, 9))\r\n",
        "print( nested_tuple2      )\r\n",
        "print( nested_tuple2[0][3])\r\n",
        "print( nested_tuple2[1][2])\r\n",
        "print( nested_tuple2[2][2])"
      ],
      "execution_count": 4,
      "outputs": [
        {
          "output_type": "stream",
          "text": [
            "('w', 'e', 'l', 'c', 'o', 'm', 'e')\n",
            "e\n",
            "c\n",
            "m\n",
            "('point', [1, 3, 4], (8, 7, 9))\n",
            "n\n",
            "4\n",
            "9\n"
          ],
          "name": "stdout"
        }
      ]
    },
    {
      "cell_type": "code",
      "metadata": {
        "colab": {
          "base_uri": "https://localhost:8080/"
        },
        "id": "cQElKb5uhbVL",
        "outputId": "bc53e7f8-dfc9-46a6-86a5-ec517d9ce66b"
      },
      "source": [
        "# Slicing tuple contents\r\n",
        "tuple1 = ('w', 'e', 'l', 'c', 'o', 'm', 'e')\r\n",
        "\r\n",
        "print(tuple1[ 1 :  3 ])\r\n",
        "\r\n",
        "print(tuple1[   : -3 ])\r\n",
        "\r\n",
        "print(tuple1[ 3 :    ])\r\n",
        "\r\n",
        "print(tuple1[   :    ])"
      ],
      "execution_count": 5,
      "outputs": [
        {
          "output_type": "stream",
          "text": [
            "('e', 'l')\n",
            "('w', 'e', 'l', 'c')\n",
            "('c', 'o', 'm', 'e')\n",
            "('w', 'e', 'l', 'c', 'o', 'm', 'e')\n"
          ],
          "name": "stdout"
        }
      ]
    },
    {
      "cell_type": "code",
      "metadata": {
        "colab": {
          "base_uri": "https://localhost:8080/"
        },
        "id": "8St_E8Oflzys",
        "outputId": "432bf8c6-357a-43b0-fea1-1a57f68aae77"
      },
      "source": [
        "# Tuple elements are inmutable\r\n",
        "tuple1 = ('w', 'e', 'l', 'c', 'o', 'm', 'e')\r\n",
        "print(tuple1)\r\n",
        "# tuple1[2] = 'x' # error\r\n",
        "\r\n",
        "#tuples can be reassigned\r\n",
        "tuple1 = ('g', 'o', 'o ', 'd', 'b', 'y', 'e')\r\n",
        "print(tuple1)"
      ],
      "execution_count": 7,
      "outputs": [
        {
          "output_type": "stream",
          "text": [
            "('w', 'e', 'l', 'c', 'o', 'm', 'e')\n",
            "('g', 'o', 'o ', 'd', 'b', 'y', 'e')\n"
          ],
          "name": "stdout"
        }
      ]
    },
    {
      "cell_type": "code",
      "metadata": {
        "id": "-lIg0h6Aqc9d"
      },
      "source": [
        ""
      ],
      "execution_count": null,
      "outputs": []
    }
  ]
}