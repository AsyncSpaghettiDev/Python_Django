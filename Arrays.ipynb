{
  "nbformat": 4,
  "nbformat_minor": 0,
  "metadata": {
    "colab": {
      "name": "Arrays.ipynb",
      "provenance": [],
      "collapsed_sections": [],
      "authorship_tag": "ABX9TyPMWhkmv1HPiVati8lAcw+R"
    },
    "kernelspec": {
      "name": "python3",
      "display_name": "Python 3"
    }
  },
  "cells": [
    {
      "cell_type": "code",
      "metadata": {
        "colab": {
          "base_uri": "https://localhost:8080/"
        },
        "id": "n2oohotKALIp",
        "outputId": "8754a793-b82a-4415-c0b4-9f22c24a4f63"
      },
      "source": [
        "# Defining and declaring an array\r\n",
        "arr = [10, 20, 30, 40, 50]\r\n",
        "print(arr)\r\n",
        "\r\n",
        "# Accessing Array Elements\r\n",
        "print(\"Array Data: \")\r\n",
        "print(arr[0])\r\n",
        "print(arr[1])\r\n",
        "print(arr[2])\r\n",
        "print(arr[-1]) # Negativa index\r\n",
        "print(arr[-2]) # Nagative index"
      ],
      "execution_count": 2,
      "outputs": [
        {
          "output_type": "stream",
          "text": [
            "[10, 20, 30, 40, 50]\n",
            "Array Data: \n",
            "10\n",
            "20\n",
            "30\n",
            "50\n",
            "40\n"
          ],
          "name": "stdout"
        }
      ]
    },
    {
      "cell_type": "code",
      "metadata": {
        "colab": {
          "base_uri": "https://localhost:8080/"
        },
        "id": "HBvMCxnhIxFu",
        "outputId": "d84c3bad-cf08-4866-c949-8554124b7044"
      },
      "source": [
        "brands = [\"Coke\" , \"Apple\" , \"Google\", \"Microsoft\" , \"Toyota\"]\r\n",
        "print(brands)\r\n",
        "\r\n",
        "# Finding the lenght of the array\r\n",
        "num_brands = len(brands)\r\n",
        "print(num_brands)\r\n",
        "\r\n",
        "# Adding an element to an array using append()\r\n",
        "brands.append(\"Intel\")\r\n",
        "print(brands)"
      ],
      "execution_count": 3,
      "outputs": [
        {
          "output_type": "stream",
          "text": [
            "['Coke', 'Apple', 'Google', 'Microsoft', 'Toyota']\n",
            "5\n",
            "['Coke', 'Apple', 'Google', 'Microsoft', 'Toyota', 'Intel']\n"
          ],
          "name": "stdout"
        }
      ]
    },
    {
      "cell_type": "code",
      "metadata": {
        "colab": {
          "base_uri": "https://localhost:8080/"
        },
        "id": "55PqCuSIJSNd",
        "outputId": "9da723af-bb88-4bca-baec-59f155ff3e7d"
      },
      "source": [
        "# Removig elements from an array\r\n",
        "colors = [\"Violet\", \"Indigo\", \"Blue\", \"Green\", \"Yellow\", \"Orange\", \"Red\"]\r\n",
        "print(colors)\r\n",
        "\r\n",
        "del colors[4]\r\n",
        "print(colors)\r\n",
        "\r\n",
        "colors.remove(\"Blue\")\r\n",
        "print(colors)\r\n",
        "\r\n",
        "colors.pop(3)\r\n",
        "print(colors)"
      ],
      "execution_count": 4,
      "outputs": [
        {
          "output_type": "stream",
          "text": [
            "['Violet', 'Indigo', 'Green', 'Red']\n"
          ],
          "name": "stdout"
        }
      ]
    },
    {
      "cell_type": "code",
      "metadata": {
        "colab": {
          "base_uri": "https://localhost:8080/"
        },
        "id": "9gM0kmVGL3im",
        "outputId": "518e4185-2955-45ac-90e9-d01ea1ad3a1e"
      },
      "source": [
        "# Modifying elements of an array using indexing\r\n",
        "fruits = [\"Apple\", \"Banana\", \"Mango\", \"Grapes\", \"Orange\"]\r\n",
        "print(fruits)\r\n",
        "\r\n",
        "fruits[ 1] = \"Pineapple\"\r\n",
        "print(fruits)\r\n",
        "\r\n",
        "fruits[-1] = \"Guava\"\r\n",
        "print(fruits)"
      ],
      "execution_count": 5,
      "outputs": [
        {
          "output_type": "stream",
          "text": [
            "['Apple', 'Pineapple', 'Mango', 'Grapes', 'Guava']\n"
          ],
          "name": "stdout"
        }
      ]
    },
    {
      "cell_type": "code",
      "metadata": {
        "colab": {
          "base_uri": "https://localhost:8080/"
        },
        "id": "jcRhia7TNMMH",
        "outputId": "481a553c-e306-453d-a0b7-16a7e3a383b4"
      },
      "source": [
        "# Concatenating two arrays usig + operator\r\n",
        "concat = [1, 2, 3]\r\n",
        "print(concat)\r\n",
        "\r\n",
        "concat + [4, 5, 6]\r\n",
        "print(concat)\r\n",
        "\r\n",
        "concat = concat + [4, 5, 6]\r\n",
        "print(concat)"
      ],
      "execution_count": 8,
      "outputs": [
        {
          "output_type": "stream",
          "text": [
            "[1, 2, 3]\n",
            "[1, 2, 3]\n",
            "[1, 2, 3, 4, 5, 6]\n"
          ],
          "name": "stdout"
        }
      ]
    },
    {
      "cell_type": "code",
      "metadata": {
        "colab": {
          "base_uri": "https://localhost:8080/"
        },
        "id": "pO89rlbsN7Ep",
        "outputId": "17caf918-b0cb-450c-c6a6-cbbe9ba88fed"
      },
      "source": [
        "# Repeating element in an array\r\n",
        "repeat = [\"a\"]\r\n",
        "print(repeat)\r\n",
        "\r\n",
        "repeat = repeat * 5\r\n",
        "print(repeat)"
      ],
      "execution_count": 9,
      "outputs": [
        {
          "output_type": "stream",
          "text": [
            "['a']\n",
            "['a', 'a', 'a', 'a', 'a']\n"
          ],
          "name": "stdout"
        }
      ]
    },
    {
      "cell_type": "code",
      "metadata": {
        "colab": {
          "base_uri": "https://localhost:8080/"
        },
        "id": "PoFXs3oqOOAM",
        "outputId": "9edf2e00-6e9b-4fe5-fc9b-4ddd76424813"
      },
      "source": [
        "# Slicing an array\r\n",
        "fruits = [\"Apple\", \"Banana\", \"Mango\", \"Grapes\", \"Orange\"]\r\n",
        "print(fruits)\r\n",
        "\r\n",
        "print(fruits[  1 :  4 ] ) \r\n",
        "print(fruits[    :  3 ] )\r\n",
        "print(fruits[ -4 :    ] )\r\n",
        "print(fruits[ -3 : -1 ] )"
      ],
      "execution_count": 10,
      "outputs": [
        {
          "output_type": "stream",
          "text": [
            "['Apple', 'Banana', 'Mango', 'Grapes', 'Orange']\n",
            "['Banana', 'Mango', 'Grapes']\n",
            "['Apple', 'Banana', 'Mango']\n",
            "['Banana', 'Mango', 'Grapes', 'Orange']\n",
            "['Mango', 'Grapes']\n"
          ],
          "name": "stdout"
        }
      ]
    },
    {
      "cell_type": "code",
      "metadata": {
        "colab": {
          "base_uri": "https://localhost:8080/"
        },
        "id": "dwPyZ91_O-a_",
        "outputId": "f5cc21cb-f3fc-4f2e-e996-c348171620b7"
      },
      "source": [
        "# Declaring and defining multidimensional array\r\n",
        "multd = [ [1 , 2] , [3 , 4] , [5 , 6] , [7 , 8] ]\r\n",
        "print(multd        )\r\n",
        "print(multd[0]     )\r\n",
        "print(multd[3]     )\r\n",
        "print(multd[2] [1] )\r\n",
        "print(multd[3] [0] )"
      ],
      "execution_count": 12,
      "outputs": [
        {
          "output_type": "stream",
          "text": [
            "[[1, 2], [3, 4], [5, 6], [7, 8]]\n",
            "[1, 2]\n",
            "[7, 8]\n",
            "6\n",
            "7\n"
          ],
          "name": "stdout"
        }
      ]
    }
  ]
}