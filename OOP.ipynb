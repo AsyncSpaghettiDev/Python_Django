{
  "nbformat": 4,
  "nbformat_minor": 0,
  "metadata": {
    "colab": {
      "name": "OOP.ipynb",
      "provenance": [],
      "collapsed_sections": [],
      "authorship_tag": "ABX9TyO7kU1oetJRekXkydzBkbAc"
    },
    "kernelspec": {
      "name": "python3",
      "display_name": "Python 3"
    }
  },
  "cells": [
    {
      "cell_type": "code",
      "metadata": {
        "id": "vbI9bweU6Isv"
      },
      "source": [
        "class MyComplexNumber:\r\n",
        "  # Constructor Methods\r\n",
        "  def __init__(self, real = 0, imag = 0):\r\n",
        "    print(\"MyComplexNumber constructor executing...\")\r\n",
        "    self.real_part = real\r\n",
        "    self.imag_part = imag\r\n",
        "\r\n",
        "  def displayComplex(self):\r\n",
        "    print(\"{0} + {1}i\".format(self.real_part, self.imag_part))"
      ],
      "execution_count": 3,
      "outputs": []
    },
    {
      "cell_type": "code",
      "metadata": {
        "colab": {
          "base_uri": "https://localhost:8080/"
        },
        "id": "1SiYyer18pKn",
        "outputId": "cc21acb7-7b77-4e9e-9d7a-a9507c8fa5e5"
      },
      "source": [
        "# Create a new Object against MyComplexNumber class\r\n",
        "cmplx1 = MyComplexNumber(40,50)\r\n",
        "\r\n",
        "# Calling displayComplex() function\r\n",
        "# Output: 40 + 50 i\r\n",
        "cmplx1.displayComplex()"
      ],
      "execution_count": 4,
      "outputs": [
        {
          "output_type": "stream",
          "text": [
            "MyComplexNumber constructor executing...\n",
            "40 + 50i\n"
          ],
          "name": "stdout"
        }
      ]
    },
    {
      "cell_type": "code",
      "metadata": {
        "colab": {
          "base_uri": "https://localhost:8080/"
        },
        "id": "8HEKtyvU999g",
        "outputId": "e50bb24a-f56e-49a6-f350-c0e5f0bbc852"
      },
      "source": [
        "# Create another object agains MyComplexNumber class\r\n",
        "# and create a new attribute 'new_atributte'\r\n",
        "cmplx2 = MyComplexNumber(60,70)\r\n",
        "cmplx2.new_attribute = 80\r\n",
        "\r\n",
        "# Output: (60,70,80)\r\n",
        "print((cmplx2.real_part, cmplx2.imag_part, cmplx2.new_attribute))"
      ],
      "execution_count": 5,
      "outputs": [
        {
          "output_type": "stream",
          "text": [
            "MyComplexNumber constructor executing...\n",
            "(60, 70, 80)\n"
          ],
          "name": "stdout"
        }
      ]
    },
    {
      "cell_type": "code",
      "metadata": {
        "colab": {
          "base_uri": "https://localhost:8080/",
          "height": 197
        },
        "id": "ojn_8F0o-rWF",
        "outputId": "e6447106-5bab-4afd-a742-614af59cfb86"
      },
      "source": [
        "# but cmplx1 doesn't have attribute 'new attribute'\r\n",
        "# AttributeError: 'MyComplexNumber' object has no attribute 'new_attribute'\r\n",
        "cmplx1.new_attribute"
      ],
      "execution_count": 7,
      "outputs": [
        {
          "output_type": "error",
          "ename": "AttributeError",
          "evalue": "ignored",
          "traceback": [
            "\u001b[0;31m---------------------------------------------------------------------------\u001b[0m",
            "\u001b[0;31mAttributeError\u001b[0m                            Traceback (most recent call last)",
            "\u001b[0;32m<ipython-input-7-f50ab50e47d1>\u001b[0m in \u001b[0;36m<module>\u001b[0;34m()\u001b[0m\n\u001b[1;32m      1\u001b[0m \u001b[0;31m# but cmplx1 doesn't have attribute 'new attribute'\u001b[0m\u001b[0;34m\u001b[0m\u001b[0;34m\u001b[0m\u001b[0;34m\u001b[0m\u001b[0m\n\u001b[1;32m      2\u001b[0m \u001b[0;31m# AttributeError: 'MyComplexNumber' object has no attribute 'new_attribute'\u001b[0m\u001b[0;34m\u001b[0m\u001b[0;34m\u001b[0m\u001b[0;34m\u001b[0m\u001b[0m\n\u001b[0;32m----> 3\u001b[0;31m \u001b[0mcmplx1\u001b[0m\u001b[0;34m.\u001b[0m\u001b[0mnew_attribute\u001b[0m\u001b[0;34m\u001b[0m\u001b[0;34m\u001b[0m\u001b[0m\n\u001b[0m",
            "\u001b[0;31mAttributeError\u001b[0m: 'MyComplexNumber' object has no attribute 'new_attribute'"
          ]
        }
      ]
    },
    {
      "cell_type": "code",
      "metadata": {
        "colab": {
          "base_uri": "https://localhost:8080/"
        },
        "id": "ogoNLzFP_Lpl",
        "outputId": "21ec6daa-c828-4979-e26d-4246f756fd3a"
      },
      "source": [
        "# Deleting object attributes and the object\r\n",
        "print(cmplx1)\r\n",
        "del cmplx1.real_part\r\n",
        "del cmplx1"
      ],
      "execution_count": 8,
      "outputs": [
        {
          "output_type": "stream",
          "text": [
            "<__main__.MyComplexNumber object at 0x7f6a3459b5f8>\n"
          ],
          "name": "stdout"
        }
      ]
    },
    {
      "cell_type": "code",
      "metadata": {
        "colab": {
          "base_uri": "https://localhost:8080/",
          "height": 163
        },
        "id": "B2pd7NnJ_rpH",
        "outputId": "76397213-f222-434f-d88c-0da530e70409"
      },
      "source": [
        "print(cmplx1)"
      ],
      "execution_count": 9,
      "outputs": [
        {
          "output_type": "error",
          "ename": "NameError",
          "evalue": "ignored",
          "traceback": [
            "\u001b[0;31m---------------------------------------------------------------------------\u001b[0m",
            "\u001b[0;31mNameError\u001b[0m                                 Traceback (most recent call last)",
            "\u001b[0;32m<ipython-input-9-1724591c7af0>\u001b[0m in \u001b[0;36m<module>\u001b[0;34m()\u001b[0m\n\u001b[0;32m----> 1\u001b[0;31m \u001b[0mprint\u001b[0m\u001b[0;34m(\u001b[0m\u001b[0mcmplx1\u001b[0m\u001b[0;34m)\u001b[0m\u001b[0;34m\u001b[0m\u001b[0;34m\u001b[0m\u001b[0m\n\u001b[0m",
            "\u001b[0;31mNameError\u001b[0m: name 'cmplx1' is not defined"
          ]
        }
      ]
    }
  ]
}