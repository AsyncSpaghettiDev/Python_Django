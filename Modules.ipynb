{
  "nbformat": 4,
  "nbformat_minor": 0,
  "metadata": {
    "colab": {
      "name": "Modules.ipynb",
      "provenance": [],
      "authorship_tag": "ABX9TyNIL5fCMRsA92wnU09kaXMg"
    },
    "kernelspec": {
      "name": "python3",
      "display_name": "Python 3"
    }
  },
  "cells": [
    {
      "cell_type": "code",
      "metadata": {
        "colab": {
          "base_uri": "https://localhost:8080/"
        },
        "id": "oWNMu_95q0wb",
        "outputId": "f3091206-e0c3-4165-90be-97eab4ef3b84"
      },
      "source": [
        "# Import module and renaming it\r\n",
        "import math as mafs\r\n",
        "\r\n",
        "print(\"Tha value of pi is \", mafs.pi)"
      ],
      "execution_count": 1,
      "outputs": [
        {
          "output_type": "stream",
          "text": [
            "Tha value of pi is  3.141592653589793\n"
          ],
          "name": "stdout"
        }
      ]
    },
    {
      "cell_type": "code",
      "metadata": {
        "colab": {
          "base_uri": "https://localhost:8080/"
        },
        "id": "Gg-e_cGluRex",
        "outputId": "45df5cfd-a932-4482-a059-8a8a35ddb475"
      },
      "source": [
        "# Usage of from\r\n",
        "from math import pi\r\n",
        "\r\n",
        "print(\"Tha value of pi is \", pi)"
      ],
      "execution_count": 2,
      "outputs": [
        {
          "output_type": "stream",
          "text": [
            "Tha value of pi is  3.141592653589793\n"
          ],
          "name": "stdout"
        }
      ]
    },
    {
      "cell_type": "code",
      "metadata": {
        "colab": {
          "base_uri": "https://localhost:8080/"
        },
        "id": "J5s-S7USualC",
        "outputId": "385924e4-67df-4aa1-f2be-0dabfaab03e5"
      },
      "source": [
        "# Import all names from the standard module math\r\n",
        "from math import *\r\n",
        "\r\n",
        "print(\"Tha value of pi is \", pi)"
      ],
      "execution_count": 3,
      "outputs": [
        {
          "output_type": "stream",
          "text": [
            "Tha value of pi is  3.141592653589793\n"
          ],
          "name": "stdout"
        }
      ]
    },
    {
      "cell_type": "code",
      "metadata": {
        "colab": {
          "base_uri": "https://localhost:8080/"
        },
        "id": "taHVhQkUui8G",
        "outputId": "b176f8d0-45fd-4eb6-a0d6-916d6dab2b39"
      },
      "source": [
        "# using all the keywords\r\n",
        "from math import pi as ma\r\n",
        "\r\n",
        "print(\"Tha value of pi is \", ma)"
      ],
      "execution_count": 5,
      "outputs": [
        {
          "output_type": "stream",
          "text": [
            "Tha value of pi is  3.141592653589793\n"
          ],
          "name": "stdout"
        }
      ]
    }
  ]
}