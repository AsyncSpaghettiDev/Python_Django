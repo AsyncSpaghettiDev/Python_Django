{
  "nbformat": 4,
  "nbformat_minor": 0,
  "metadata": {
    "colab": {
      "name": "DirectoryFileManagement.ipynb",
      "provenance": [],
      "authorship_tag": "ABX9TyNONOuD06uqM/G3VjqzlZl7"
    },
    "kernelspec": {
      "name": "python3",
      "display_name": "Python 3"
    }
  },
  "cells": [
    {
      "cell_type": "code",
      "metadata": {
        "colab": {
          "base_uri": "https://localhost:8080/"
        },
        "id": "j0g3JR3eviCs",
        "outputId": "b9ca620c-463d-483d-a840-43ff0cebe358"
      },
      "source": [
        "import os\r\n",
        "print(os.getcwd() ) # Returns the present working directory\r\n",
        "print(os.getcwdb()) # Returns the present working directory as a byte object"
      ],
      "execution_count": null,
      "outputs": [
        {
          "output_type": "stream",
          "text": [
            "/content\n",
            "b'/content'\n"
          ],
          "name": "stdout"
        }
      ]
    },
    {
      "cell_type": "code",
      "metadata": {
        "colab": {
          "base_uri": "https://localhost:8080/"
        },
        "id": "3-sBB7eawYQT",
        "outputId": "f8639419-1213-4d64-f4a4-f7aa48143f63"
      },
      "source": [
        "# os.chdir('path')     # use to change directory\r\n",
        "print(os.listdir())    # all files and sub directories inside a directory\r\n",
        "                       # can be known using listdir() method."
      ],
      "execution_count": null,
      "outputs": [
        {
          "output_type": "stream",
          "text": [
            "['.config', 'sample_data']\n"
          ],
          "name": "stdout"
        }
      ]
    },
    {
      "cell_type": "code",
      "metadata": {
        "id": "_puVgWKvxIQB"
      },
      "source": [
        "os.mkdir('Test')             # used to make a new directory"
      ],
      "execution_count": null,
      "outputs": []
    },
    {
      "cell_type": "code",
      "metadata": {
        "id": "SP2SgXLsxbJW"
      },
      "source": [
        "os.rename('Test', 'New_One') # used to rename a directory"
      ],
      "execution_count": null,
      "outputs": []
    },
    {
      "cell_type": "code",
      "metadata": {
        "id": "GavvzBnaxreO"
      },
      "source": [
        "# Removing a file and a directory\r\n",
        "os.remove('sample.txt')      # for remove a file\r\n",
        "os.rmdir('New_One')          # for remove a directory"
      ],
      "execution_count": 8,
      "outputs": []
    }
  ]
}