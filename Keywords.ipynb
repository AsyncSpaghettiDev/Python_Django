{
  "nbformat": 4,
  "nbformat_minor": 0,
  "metadata": {
    "colab": {
      "name": "Keywords.ipynb",
      "provenance": [],
      "collapsed_sections": [],
      "authorship_tag": "ABX9TyPSnd1/3mU2wANELNxbw6l7"
    },
    "kernelspec": {
      "name": "python3",
      "display_name": "Python 3"
    }
  },
  "cells": [
    {
      "cell_type": "code",
      "metadata": {
        "colab": {
          "base_uri": "https://localhost:8080/"
        },
        "id": "8oLJR8BmQYAQ",
        "outputId": "5ef1eb1a-ad3e-450e-d82b-b60d56e482ab"
      },
      "source": [
        "# True | False\r\n",
        "print( 5 == 5 )\r\n",
        "print( 5 >  5 )"
      ],
      "execution_count": 1,
      "outputs": [
        {
          "output_type": "stream",
          "text": [
            "True\n",
            "False\n"
          ],
          "name": "stdout"
        }
      ]
    },
    {
      "cell_type": "code",
      "metadata": {
        "colab": {
          "base_uri": "https://localhost:8080/"
        },
        "id": "TiaQwLMFSGmK",
        "outputId": "cb1454a4-4fd2-46ac-925b-b76566c11faa"
      },
      "source": [
        "# None\r\n",
        "print(None == 0    )\r\n",
        "print(None == False)\r\n",
        "print(None == []   )\r\n",
        "print(None == None )"
      ],
      "execution_count": 2,
      "outputs": [
        {
          "output_type": "stream",
          "text": [
            "False\n",
            "False\n",
            "False\n",
            "True\n"
          ],
          "name": "stdout"
        }
      ]
    },
    {
      "cell_type": "code",
      "metadata": {
        "colab": {
          "base_uri": "https://localhost:8080/"
        },
        "id": "Kjs485kTSTPq",
        "outputId": "6e6f9994-00b4-4ab1-939a-e2b775cc970f"
      },
      "source": [
        "# Example using None\r\n",
        "def a_void_function():\r\n",
        "  a = 1\r\n",
        "  b = 2\r\n",
        "  c = a + b\r\n",
        "  # for avoid None\r\n",
        "  # return(c)\r\n",
        "\r\n",
        "x = a_void_function()\r\n",
        "print(x)"
      ],
      "execution_count": 4,
      "outputs": [
        {
          "output_type": "stream",
          "text": [
            "3\n"
          ],
          "name": "stdout"
        }
      ]
    },
    {
      "cell_type": "code",
      "metadata": {
        "colab": {
          "base_uri": "https://localhost:8080/"
        },
        "id": "HpgFBDEKSpTY",
        "outputId": "8cea4816-27f0-495f-ba94-fde691afdf27"
      },
      "source": [
        "# and, or, not\r\n",
        "print(True and False )\r\n",
        "print(True or  False )\r\n",
        "print(     not False )\r\n",
        "print(True and True  )\r\n",
        "print(True or  True  )\r\n",
        "print(     not True  )"
      ],
      "execution_count": 7,
      "outputs": [
        {
          "output_type": "stream",
          "text": [
            "False\n",
            "True\n",
            "True\n",
            "True\n",
            "True\n",
            "False\n"
          ],
          "name": "stdout"
        }
      ]
    },
    {
      "cell_type": "code",
      "metadata": {
        "colab": {
          "base_uri": "https://localhost:8080/"
        },
        "id": "aeVaxrI1TFmG",
        "outputId": "b0ead23f-505c-45c1-f6a1-2cc7da9d46b0"
      },
      "source": [
        "# as\r\n",
        "import math as myMath\r\n",
        "print(myMath.cos(myMath.pi))"
      ],
      "execution_count": 6,
      "outputs": [
        {
          "output_type": "stream",
          "text": [
            "-1.0\n"
          ],
          "name": "stdout"
        }
      ]
    },
    {
      "cell_type": "code",
      "metadata": {
        "id": "_0KdBibCTywA"
      },
      "source": [
        "# assert (afirmar)\r\n",
        "\r\n",
        "assert 5  > 4\r\n",
        "assert 5 == 5\r\n",
        "\r\n",
        "# assert exception:\r\n",
        "# assert 5 > 5"
      ],
      "execution_count": 9,
      "outputs": []
    },
    {
      "cell_type": "code",
      "metadata": {
        "colab": {
          "base_uri": "https://localhost:8080/"
        },
        "id": "f-G4ILfWUA9T",
        "outputId": "9269c8c6-e64b-41ca-da49-4d53f7b57f9d"
      },
      "source": [
        "# break\r\n",
        "for i in range (1,11):\r\n",
        "  if i == 5:\r\n",
        "    break\r\n",
        "  print(i)"
      ],
      "execution_count": 10,
      "outputs": [
        {
          "output_type": "stream",
          "text": [
            "1\n",
            "2\n",
            "3\n",
            "4\n"
          ],
          "name": "stdout"
        }
      ]
    },
    {
      "cell_type": "code",
      "metadata": {
        "colab": {
          "base_uri": "https://localhost:8080/"
        },
        "id": "IT9yYblRULdO",
        "outputId": "432e7304-ae13-4dcf-b50a-905a15f56bba"
      },
      "source": [
        "# continue\r\n",
        "for i in range (1,8):\r\n",
        "  if i == 5:\r\n",
        "    continue\r\n",
        "  print(i)"
      ],
      "execution_count": 11,
      "outputs": [
        {
          "output_type": "stream",
          "text": [
            "1\n",
            "2\n",
            "3\n",
            "4\n",
            "6\n",
            "7\n"
          ],
          "name": "stdout"
        }
      ]
    },
    {
      "cell_type": "code",
      "metadata": {
        "colab": {
          "base_uri": "https://localhost:8080/"
        },
        "id": "iFn9dicHUTt4",
        "outputId": "89afe320-f93c-4891-df48-4ab3f3c1666e"
      },
      "source": [
        "# class\r\n",
        "class ExampleClass:\r\n",
        "  def function1(parameters):\r\n",
        "    print(\"function1() executing...\")\r\n",
        "    \r\n",
        "  def function2(parameters):\r\n",
        "    print(\"function2() executing...\")\r\n",
        "\r\n",
        "ob1 = ExampleClass()\r\n",
        "ob1.function1()\r\n",
        "ob1.function2()"
      ],
      "execution_count": 12,
      "outputs": [
        {
          "output_type": "stream",
          "text": [
            "function1() executing...\n",
            "function2() executing...\n"
          ],
          "name": "stdout"
        }
      ]
    },
    {
      "cell_type": "code",
      "metadata": {
        "id": "iaKKD7MuUooa"
      },
      "source": [
        "# def\r\n",
        "def function_name(parameters):\r\n",
        "  pass\r\n",
        "\r\n",
        "function_name(10)"
      ],
      "execution_count": 16,
      "outputs": []
    },
    {
      "cell_type": "code",
      "metadata": {
        "colab": {
          "base_uri": "https://localhost:8080/",
          "height": 214
        },
        "id": "-t0zAnFLVQUO",
        "outputId": "0e5f334f-8cdb-4274-a548-20a45a4ed0d8"
      },
      "source": [
        "# del\r\n",
        "a = 10\r\n",
        "print(a)\r\n",
        "\r\n",
        "del a\r\n",
        "print(a)"
      ],
      "execution_count": 17,
      "outputs": [
        {
          "output_type": "stream",
          "text": [
            "10\n"
          ],
          "name": "stdout"
        },
        {
          "output_type": "error",
          "ename": "NameError",
          "evalue": "ignored",
          "traceback": [
            "\u001b[0;31m---------------------------------------------------------------------------\u001b[0m",
            "\u001b[0;31mNameError\u001b[0m                                 Traceback (most recent call last)",
            "\u001b[0;32m<ipython-input-17-92672b10de13>\u001b[0m in \u001b[0;36m<module>\u001b[0;34m()\u001b[0m\n\u001b[1;32m      4\u001b[0m \u001b[0;34m\u001b[0m\u001b[0m\n\u001b[1;32m      5\u001b[0m \u001b[0;32mdel\u001b[0m \u001b[0ma\u001b[0m\u001b[0;34m\u001b[0m\u001b[0;34m\u001b[0m\u001b[0m\n\u001b[0;32m----> 6\u001b[0;31m \u001b[0mprint\u001b[0m\u001b[0;34m(\u001b[0m\u001b[0ma\u001b[0m\u001b[0;34m)\u001b[0m\u001b[0;34m\u001b[0m\u001b[0;34m\u001b[0m\u001b[0m\n\u001b[0m",
            "\u001b[0;31mNameError\u001b[0m: name 'a' is not defined"
          ]
        }
      ]
    },
    {
      "cell_type": "code",
      "metadata": {
        "colab": {
          "base_uri": "https://localhost:8080/"
        },
        "id": "jJnqIVLCVZsU",
        "outputId": "3dee7065-993a-4217-b146-72195def6eee"
      },
      "source": [
        "# else, elif, else\r\n",
        "num = 2\r\n",
        "if   num == 1:\r\n",
        "  print(\"One\"           )\r\n",
        "elif num == 2:\r\n",
        "  print(\"Two\"           )\r\n",
        "else:\r\n",
        "  print(\"Something else\")"
      ],
      "execution_count": 19,
      "outputs": [
        {
          "output_type": "stream",
          "text": [
            "Two\n"
          ],
          "name": "stdout"
        }
      ]
    },
    {
      "cell_type": "code",
      "metadata": {
        "colab": {
          "base_uri": "https://localhost:8080/"
        },
        "id": "2TbvygAGV8vr",
        "outputId": "6a5d7935-85c4-4b24-c979-2c0d7afa7107"
      },
      "source": [
        "# try ... raise ... except(catch) ... finally\r\n",
        "try:\r\n",
        "  x = 9\r\n",
        "  raise ZeroDivisionError\r\n",
        "except ZeroDivisionError:\r\n",
        "  print(\"Division cannot be performed\")\r\n",
        "finally:\r\n",
        "  print(\"Execution Successfully\")"
      ],
      "execution_count": 20,
      "outputs": [
        {
          "output_type": "stream",
          "text": [
            "Division cannot be performed\n",
            "Execution Successfully\n"
          ],
          "name": "stdout"
        }
      ]
    },
    {
      "cell_type": "code",
      "metadata": {
        "colab": {
          "base_uri": "https://localhost:8080/"
        },
        "id": "z3kMySSWWanW",
        "outputId": "2b898135-4015-4eae-a965-e0b5651f075f"
      },
      "source": [
        "# for\r\n",
        "for i in range( 1 , 10):\r\n",
        "  print(i)"
      ],
      "execution_count": 23,
      "outputs": [
        {
          "output_type": "stream",
          "text": [
            "1\n",
            "2\n",
            "3\n",
            "4\n",
            "5\n",
            "6\n",
            "7\n",
            "8\n",
            "9\n"
          ],
          "name": "stdout"
        }
      ]
    },
    {
      "cell_type": "code",
      "metadata": {
        "id": "YLS9-l8MWotq"
      },
      "source": [
        "# from ... import\r\n",
        "import math\r\n",
        "from math import cos"
      ],
      "execution_count": 27,
      "outputs": []
    },
    {
      "cell_type": "code",
      "metadata": {
        "colab": {
          "base_uri": "https://localhost:8080/"
        },
        "id": "6lIx4B16W6xM",
        "outputId": "f1249823-569c-402e-8dae-13c22f5e479c"
      },
      "source": [
        "# global\r\n",
        "gvariable = 10\r\n",
        "\r\n",
        "def read():\r\n",
        "  print(gvariable)\r\n",
        "\r\n",
        "def write1():\r\n",
        "  global gvariable\r\n",
        "  gvariable = 5\r\n",
        "\r\n",
        "def write2():\r\n",
        "  gvariable = 15\r\n",
        "\r\n",
        "read()\r\n",
        "write1()\r\n",
        "read()\r\n",
        "write2()\r\n",
        "read()"
      ],
      "execution_count": 28,
      "outputs": [
        {
          "output_type": "stream",
          "text": [
            "10\n",
            "5\n",
            "5\n"
          ],
          "name": "stdout"
        }
      ]
    },
    {
      "cell_type": "code",
      "metadata": {
        "colab": {
          "base_uri": "https://localhost:8080/"
        },
        "id": "Js0Xha0bYCFL",
        "outputId": "d235f046-a020-4621-d6c9-cde450d93fc0"
      },
      "source": [
        "# in\r\n",
        "a = [1, 2, 3, 4]\r\n",
        "print( 4 in a)\r\n",
        "print(44 in a)"
      ],
      "execution_count": 29,
      "outputs": [
        {
          "output_type": "stream",
          "text": [
            "True\n",
            "False\n"
          ],
          "name": "stdout"
        }
      ]
    },
    {
      "cell_type": "code",
      "metadata": {
        "colab": {
          "base_uri": "https://localhost:8080/"
        },
        "id": "ePU2-oIJYJaX",
        "outputId": "7bce0f1e-2056-41ca-9acf-a81d978be87c"
      },
      "source": [
        "# is\r\n",
        "print(True  is True )\r\n",
        "print(True  is False)\r\n",
        "print(False is True )\r\n",
        "print(False is False)"
      ],
      "execution_count": 31,
      "outputs": [
        {
          "output_type": "stream",
          "text": [
            "True\n",
            "False\n",
            "False\n",
            "True\n"
          ],
          "name": "stdout"
        }
      ]
    },
    {
      "cell_type": "code",
      "metadata": {
        "colab": {
          "base_uri": "https://localhost:8080/"
        },
        "id": "eyDd78ptYkQU",
        "outputId": "f1defd49-8a76-4f70-daf9-9ac35936f90b"
      },
      "source": [
        "# Lambda\r\n",
        "a = lambda x: x * 2\r\n",
        "for i in range(1,6):\r\n",
        "  print(a(i))"
      ],
      "execution_count": 32,
      "outputs": [
        {
          "output_type": "stream",
          "text": [
            "2\n",
            "4\n",
            "6\n",
            "8\n",
            "10\n"
          ],
          "name": "stdout"
        }
      ]
    },
    {
      "cell_type": "code",
      "metadata": {
        "colab": {
          "base_uri": "https://localhost:8080/"
        },
        "id": "VYs12BExe9rv",
        "outputId": "d09098ee-b935-48ec-b921-822694dde6cb"
      },
      "source": [
        "# nonLocal\r\n",
        "def outer_function():\r\n",
        "  a = 5\r\n",
        "  def inner_function():\r\n",
        "    nonlocal a\r\n",
        "    a = 10\r\n",
        "    print(\"Inner Function: \", a)\r\n",
        "  inner_function()\r\n",
        "  print(\"Outer Function: \", a)\r\n",
        "\r\n",
        "outer_function()"
      ],
      "execution_count": 35,
      "outputs": [
        {
          "output_type": "stream",
          "text": [
            "Inner Function:  10\n",
            "Outer Function:  10\n"
          ],
          "name": "stdout"
        }
      ]
    },
    {
      "cell_type": "code",
      "metadata": {
        "id": "el0k8rxsgDEL"
      },
      "source": [
        "# pass\r\n",
        "def function():\r\n",
        "  pass\r\n",
        "\r\n",
        "function()"
      ],
      "execution_count": 36,
      "outputs": []
    },
    {
      "cell_type": "code",
      "metadata": {
        "colab": {
          "base_uri": "https://localhost:8080/"
        },
        "id": "LDyPkfeFgIbJ",
        "outputId": "b7c2c722-7736-4b54-f46d-39492e1341fe"
      },
      "source": [
        "# return\r\n",
        "def func_return():\r\n",
        "  a = 10\r\n",
        "  return a\r\n",
        "\r\n",
        "print(func_return())"
      ],
      "execution_count": 37,
      "outputs": [
        {
          "output_type": "stream",
          "text": [
            "10\n"
          ],
          "name": "stdout"
        }
      ]
    },
    {
      "cell_type": "code",
      "metadata": {
        "colab": {
          "base_uri": "https://localhost:8080/"
        },
        "id": "u6SP5-ObgbZ1",
        "outputId": "ddc4bffd-d256-470b-c33b-c6c2b992110a"
      },
      "source": [
        "# while\r\n",
        "i = 5\r\n",
        "while (i > 0):\r\n",
        "  print(i)\r\n",
        "  i -= 1"
      ],
      "execution_count": 38,
      "outputs": [
        {
          "output_type": "stream",
          "text": [
            "5\n",
            "4\n",
            "3\n",
            "2\n",
            "1\n"
          ],
          "name": "stdout"
        }
      ]
    },
    {
      "cell_type": "code",
      "metadata": {
        "id": "t2FrUVOcgklz"
      },
      "source": [
        "# with\r\n",
        "with open(\"example.txt\", 'w') as my_file:\r\n",
        "  my_file.write(\"Hello World!\")\r\n",
        "  my_file.close()"
      ],
      "execution_count": 39,
      "outputs": []
    },
    {
      "cell_type": "code",
      "metadata": {
        "colab": {
          "base_uri": "https://localhost:8080/"
        },
        "id": "Axgj4xksg8kn",
        "outputId": "1657e95d-e087-4e4e-c9a7-85049d901d78"
      },
      "source": [
        "# yield\r\n",
        "def generator():\r\n",
        "  for i in range(6):\r\n",
        "    yield i * i\r\n",
        "\r\n",
        "g = generator()\r\n",
        "for i in g:\r\n",
        "  print(i)"
      ],
      "execution_count": 41,
      "outputs": [
        {
          "output_type": "stream",
          "text": [
            "<generator object generator at 0x7f260ec584c0>\n",
            "0\n",
            "1\n",
            "4\n",
            "9\n",
            "16\n",
            "25\n"
          ],
          "name": "stdout"
        }
      ]
    }
  ]
}